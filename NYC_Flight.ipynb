{
  "nbformat": 4,
  "nbformat_minor": 0,
  "metadata": {
    "colab": {
      "provenance": []
    },
    "kernelspec": {
      "name": "python3",
      "display_name": "Python 3"
    },
    "language_info": {
      "name": "python"
    }
  },
  "cells": [
    {
      "cell_type": "markdown",
      "source": [
        "Planning a business trip from New York City to San Francisco.\n",
        "\n",
        "Suppose there is a meeting scheduled at a specific time. How early should you plan to arrive to avoid being late due to flight delays?\n",
        "\n",
        "Assume the 336,776 flights in the nycflights13 package represent the population"
      ],
      "metadata": {
        "id": "Pb4CHz46pA7q"
      }
    },
    {
      "cell_type": "code",
      "execution_count": 2,
      "metadata": {
        "colab": {
          "base_uri": "https://localhost:8080/"
        },
        "id": "nXQuauiXuoO2",
        "outputId": "c7ca5bc5-892e-4b9b-f961-03b7666d39c4"
      },
      "outputs": [
        {
          "output_type": "stream",
          "name": "stdout",
          "text": [
            "Collecting nycflights13\n",
            "  Downloading nycflights13-0.0.3.tar.gz (8.7 MB)\n",
            "\u001b[2K     \u001b[90m━━━━━━━━━━━━━━━━━━━━━━━━━━━━━━━━━━━━━━━━\u001b[0m \u001b[32m8.7/8.7 MB\u001b[0m \u001b[31m17.8 MB/s\u001b[0m eta \u001b[36m0:00:00\u001b[0m\n",
            "\u001b[?25h  Preparing metadata (setup.py) ... \u001b[?25l\u001b[?25hdone\n",
            "Requirement already satisfied: pandas>=0.24.0 in /usr/local/lib/python3.11/dist-packages (from nycflights13) (2.2.2)\n",
            "Requirement already satisfied: numpy>=1.23.2 in /usr/local/lib/python3.11/dist-packages (from pandas>=0.24.0->nycflights13) (2.0.2)\n",
            "Requirement already satisfied: python-dateutil>=2.8.2 in /usr/local/lib/python3.11/dist-packages (from pandas>=0.24.0->nycflights13) (2.9.0.post0)\n",
            "Requirement already satisfied: pytz>=2020.1 in /usr/local/lib/python3.11/dist-packages (from pandas>=0.24.0->nycflights13) (2025.2)\n",
            "Requirement already satisfied: tzdata>=2022.7 in /usr/local/lib/python3.11/dist-packages (from pandas>=0.24.0->nycflights13) (2025.2)\n",
            "Requirement already satisfied: six>=1.5 in /usr/local/lib/python3.11/dist-packages (from python-dateutil>=2.8.2->pandas>=0.24.0->nycflights13) (1.17.0)\n",
            "Building wheels for collected packages: nycflights13\n",
            "  Building wheel for nycflights13 (setup.py) ... \u001b[?25l\u001b[?25hdone\n",
            "  Created wheel for nycflights13: filename=nycflights13-0.0.3-py3-none-any.whl size=8732722 sha256=ab17695f6aea7f7afd36915ac72322bcd7a60a7201066b06c1caec0b1d459de7\n",
            "  Stored in directory: /root/.cache/pip/wheels/88/f8/a0/0cddecda19243434a89128b8fd0b4d58ce5747261751428873\n",
            "Successfully built nycflights13\n",
            "Installing collected packages: nycflights13\n",
            "Successfully installed nycflights13-0.0.3\n",
            "Requirement already satisfied: matplotlib in /usr/local/lib/python3.11/dist-packages (3.10.0)\n",
            "Requirement already satisfied: contourpy>=1.0.1 in /usr/local/lib/python3.11/dist-packages (from matplotlib) (1.3.2)\n",
            "Requirement already satisfied: cycler>=0.10 in /usr/local/lib/python3.11/dist-packages (from matplotlib) (0.12.1)\n",
            "Requirement already satisfied: fonttools>=4.22.0 in /usr/local/lib/python3.11/dist-packages (from matplotlib) (4.57.0)\n",
            "Requirement already satisfied: kiwisolver>=1.3.1 in /usr/local/lib/python3.11/dist-packages (from matplotlib) (1.4.8)\n",
            "Requirement already satisfied: numpy>=1.23 in /usr/local/lib/python3.11/dist-packages (from matplotlib) (2.0.2)\n",
            "Requirement already satisfied: packaging>=20.0 in /usr/local/lib/python3.11/dist-packages (from matplotlib) (24.2)\n",
            "Requirement already satisfied: pillow>=8 in /usr/local/lib/python3.11/dist-packages (from matplotlib) (11.2.1)\n",
            "Requirement already satisfied: pyparsing>=2.3.1 in /usr/local/lib/python3.11/dist-packages (from matplotlib) (3.2.3)\n",
            "Requirement already satisfied: python-dateutil>=2.7 in /usr/local/lib/python3.11/dist-packages (from matplotlib) (2.9.0.post0)\n",
            "Requirement already satisfied: six>=1.5 in /usr/local/lib/python3.11/dist-packages (from python-dateutil>=2.7->matplotlib) (1.17.0)\n",
            "Requirement already satisfied: IPython in /usr/local/lib/python3.11/dist-packages (7.34.0)\n",
            "Requirement already satisfied: setuptools>=18.5 in /usr/local/lib/python3.11/dist-packages (from IPython) (75.2.0)\n",
            "Collecting jedi>=0.16 (from IPython)\n",
            "  Downloading jedi-0.19.2-py2.py3-none-any.whl.metadata (22 kB)\n",
            "Requirement already satisfied: decorator in /usr/local/lib/python3.11/dist-packages (from IPython) (4.4.2)\n",
            "Requirement already satisfied: pickleshare in /usr/local/lib/python3.11/dist-packages (from IPython) (0.7.5)\n",
            "Requirement already satisfied: traitlets>=4.2 in /usr/local/lib/python3.11/dist-packages (from IPython) (5.7.1)\n",
            "Requirement already satisfied: prompt-toolkit!=3.0.0,!=3.0.1,<3.1.0,>=2.0.0 in /usr/local/lib/python3.11/dist-packages (from IPython) (3.0.51)\n",
            "Requirement already satisfied: pygments in /usr/local/lib/python3.11/dist-packages (from IPython) (2.19.1)\n",
            "Requirement already satisfied: backcall in /usr/local/lib/python3.11/dist-packages (from IPython) (0.2.0)\n",
            "Requirement already satisfied: matplotlib-inline in /usr/local/lib/python3.11/dist-packages (from IPython) (0.1.7)\n",
            "Requirement already satisfied: pexpect>4.3 in /usr/local/lib/python3.11/dist-packages (from IPython) (4.9.0)\n",
            "Requirement already satisfied: parso<0.9.0,>=0.8.4 in /usr/local/lib/python3.11/dist-packages (from jedi>=0.16->IPython) (0.8.4)\n",
            "Requirement already satisfied: ptyprocess>=0.5 in /usr/local/lib/python3.11/dist-packages (from pexpect>4.3->IPython) (0.7.0)\n",
            "Requirement already satisfied: wcwidth in /usr/local/lib/python3.11/dist-packages (from prompt-toolkit!=3.0.0,!=3.0.1,<3.1.0,>=2.0.0->IPython) (0.2.13)\n",
            "Downloading jedi-0.19.2-py2.py3-none-any.whl (1.6 MB)\n",
            "\u001b[2K   \u001b[90m━━━━━━━━━━━━━━━━━━━━━━━━━━━━━━━━━━━━━━━━\u001b[0m \u001b[32m1.6/1.6 MB\u001b[0m \u001b[31m16.0 MB/s\u001b[0m eta \u001b[36m0:00:00\u001b[0m\n",
            "\u001b[?25hInstalling collected packages: jedi\n",
            "Successfully installed jedi-0.19.2\n",
            "Requirement already satisfied: statsmodels in /usr/local/lib/python3.11/dist-packages (0.14.4)\n",
            "Requirement already satisfied: numpy<3,>=1.22.3 in /usr/local/lib/python3.11/dist-packages (from statsmodels) (2.0.2)\n",
            "Requirement already satisfied: scipy!=1.9.2,>=1.8 in /usr/local/lib/python3.11/dist-packages (from statsmodels) (1.15.2)\n",
            "Requirement already satisfied: pandas!=2.1.0,>=1.4 in /usr/local/lib/python3.11/dist-packages (from statsmodels) (2.2.2)\n",
            "Requirement already satisfied: patsy>=0.5.6 in /usr/local/lib/python3.11/dist-packages (from statsmodels) (1.0.1)\n",
            "Requirement already satisfied: packaging>=21.3 in /usr/local/lib/python3.11/dist-packages (from statsmodels) (24.2)\n",
            "Requirement already satisfied: python-dateutil>=2.8.2 in /usr/local/lib/python3.11/dist-packages (from pandas!=2.1.0,>=1.4->statsmodels) (2.9.0.post0)\n",
            "Requirement already satisfied: pytz>=2020.1 in /usr/local/lib/python3.11/dist-packages (from pandas!=2.1.0,>=1.4->statsmodels) (2025.2)\n",
            "Requirement already satisfied: tzdata>=2022.7 in /usr/local/lib/python3.11/dist-packages (from pandas!=2.1.0,>=1.4->statsmodels) (2025.2)\n",
            "Requirement already satisfied: six>=1.5 in /usr/local/lib/python3.11/dist-packages (from python-dateutil>=2.8.2->pandas!=2.1.0,>=1.4->statsmodels) (1.17.0)\n",
            "Requirement already satisfied: plotnine in /usr/local/lib/python3.11/dist-packages (0.14.5)\n",
            "Requirement already satisfied: matplotlib>=3.8.0 in /usr/local/lib/python3.11/dist-packages (from plotnine) (3.10.0)\n",
            "Requirement already satisfied: pandas>=2.2.0 in /usr/local/lib/python3.11/dist-packages (from plotnine) (2.2.2)\n",
            "Requirement already satisfied: mizani~=0.13.0 in /usr/local/lib/python3.11/dist-packages (from plotnine) (0.13.3)\n",
            "Requirement already satisfied: numpy>=1.23.5 in /usr/local/lib/python3.11/dist-packages (from plotnine) (2.0.2)\n",
            "Requirement already satisfied: scipy>=1.8.0 in /usr/local/lib/python3.11/dist-packages (from plotnine) (1.15.2)\n",
            "Requirement already satisfied: statsmodels>=0.14.0 in /usr/local/lib/python3.11/dist-packages (from plotnine) (0.14.4)\n",
            "Requirement already satisfied: contourpy>=1.0.1 in /usr/local/lib/python3.11/dist-packages (from matplotlib>=3.8.0->plotnine) (1.3.2)\n",
            "Requirement already satisfied: cycler>=0.10 in /usr/local/lib/python3.11/dist-packages (from matplotlib>=3.8.0->plotnine) (0.12.1)\n",
            "Requirement already satisfied: fonttools>=4.22.0 in /usr/local/lib/python3.11/dist-packages (from matplotlib>=3.8.0->plotnine) (4.57.0)\n",
            "Requirement already satisfied: kiwisolver>=1.3.1 in /usr/local/lib/python3.11/dist-packages (from matplotlib>=3.8.0->plotnine) (1.4.8)\n",
            "Requirement already satisfied: packaging>=20.0 in /usr/local/lib/python3.11/dist-packages (from matplotlib>=3.8.0->plotnine) (24.2)\n",
            "Requirement already satisfied: pillow>=8 in /usr/local/lib/python3.11/dist-packages (from matplotlib>=3.8.0->plotnine) (11.2.1)\n",
            "Requirement already satisfied: pyparsing>=2.3.1 in /usr/local/lib/python3.11/dist-packages (from matplotlib>=3.8.0->plotnine) (3.2.3)\n",
            "Requirement already satisfied: python-dateutil>=2.7 in /usr/local/lib/python3.11/dist-packages (from matplotlib>=3.8.0->plotnine) (2.9.0.post0)\n",
            "Requirement already satisfied: pytz>=2020.1 in /usr/local/lib/python3.11/dist-packages (from pandas>=2.2.0->plotnine) (2025.2)\n",
            "Requirement already satisfied: tzdata>=2022.7 in /usr/local/lib/python3.11/dist-packages (from pandas>=2.2.0->plotnine) (2025.2)\n",
            "Requirement already satisfied: patsy>=0.5.6 in /usr/local/lib/python3.11/dist-packages (from statsmodels>=0.14.0->plotnine) (1.0.1)\n",
            "Requirement already satisfied: six>=1.5 in /usr/local/lib/python3.11/dist-packages (from python-dateutil>=2.7->matplotlib>=3.8.0->plotnine) (1.17.0)\n"
          ]
        },
        {
          "output_type": "execute_result",
          "data": {
            "text/plain": [
              "<contextlib.ExitStack at 0x78e14d96c650>"
            ]
          },
          "metadata": {},
          "execution_count": 2
        }
      ],
      "source": [
        "!pip install nycflights13\n",
        "!pip install matplotlib\n",
        "!pip install IPython\n",
        "!pip install statsmodels\n",
        "!pip install plotnine\n",
        "from nycflights13 import flights\n",
        "\n",
        "import matplotlib.pyplot as plt\n",
        "import numpy as np\n",
        "import pandas as pd\n",
        "import math\n",
        "from plotnine import *\n",
        "import statsmodels.api as sm\n",
        "import statsmodels.formula.api as smf\n",
        "from datetime import datetime\n",
        "\n",
        "plt.rcParams['figure.figsize'] = (6, 4)\n",
        "plt.rcParams['figure.dpi'] = 100\n",
        "plt.rcParams['savefig.dpi'] = 100\n",
        "plt.rcParams['figure.autolayout'] = True\n",
        "plt.ioff()"
      ]
    },
    {
      "cell_type": "code",
      "source": [
        "from IPython.core.interactiveshell import InteractiveShell\n",
        "InteractiveShell.ast_node_interactivity = \"all\"\n",
        "\n",
        "pd.options.display.html.table_schema = True\n",
        "pd.options.display.float_format = '{:.2f}'.format\n",
        "\n",
        "import warnings\n",
        "warnings.filterwarnings('ignore')\n",
        "\n",
        "from IPython.display import display, HTML\n",
        "display(HTML(\"<style>.container { width:70% !important; }</style>\"))"
      ],
      "metadata": {
        "colab": {
          "base_uri": "https://localhost:8080/",
          "height": 17
        },
        "id": "fSkl-ZKqhaE4",
        "outputId": "35da97a6-f97c-4397-815d-1ef37f6c40e9"
      },
      "execution_count": 3,
      "outputs": [
        {
          "output_type": "display_data",
          "data": {
            "text/plain": [
              "<IPython.core.display.HTML object>"
            ],
            "text/html": [
              "<style>.container { width:70% !important; }</style>"
            ]
          },
          "metadata": {}
        }
      ]
    },
    {
      "cell_type": "code",
      "source": [
        "SF = flights[(flights['dest'] == 'SFO') & (flights['arr_delay'].notna())]\n",
        "np.random.seed(101)\n",
        "sf_25 = SF.sample(n = 25)\n"
      ],
      "metadata": {
        "id": "Cq58srGru03J"
      },
      "execution_count": 4,
      "outputs": []
    },
    {
      "cell_type": "markdown",
      "source": [
        "Find the longest flight delay and adjust the travel schedule to accommodate it."
      ],
      "metadata": {
        "id": "A7vpptIrpprU"
      }
    },
    {
      "cell_type": "markdown",
      "source": [
        "Of the 25 flights to SFO:\n",
        "- Most were not late, and were ahead of schedule.\n",
        "- But a few were very late, up to 72 minutes.\n",
        "- The time spread was quite large (standard deviation 29 minutes)."
      ],
      "metadata": {
        "id": "hf2j-eqWp88y"
      }
    },
    {
      "cell_type": "code",
      "source": [
        "stats = sf_25['arr_delay'].describe(percentiles=[0, 0.25, 0.5, 0.75, 1]).to_dict()\n",
        "stats['na'] = sf_25['arr_delay'].isna().sum()\n",
        "stats['n'] = len(sf_25['arr_delay'])\n",
        "results = {\n",
        "    'var': 'arr_delay',\n",
        "    'n': stats['n'],\n",
        "    'na': stats['na'],\n",
        "    'mean': round(stats['mean'], 2),\n",
        "    'sd': round(stats['std'], 2),\n",
        "    'p0': round(stats['min'], 2),\n",
        "    'p25': round(stats['25%'], 2),\n",
        "    'p50': round(stats['50%'], 2),\n",
        "    'p75': round(stats['75%'], 2),\n",
        "    'p100': round(stats['max'], 2)\n",
        "}\n",
        "results_df = pd.DataFrame([results])\n",
        "print(results_df)"
      ],
      "metadata": {
        "id": "8t75l_H3vtj6",
        "colab": {
          "base_uri": "https://localhost:8080/"
        },
        "outputId": "ca029bc3-43ac-4c07-e8fe-0df839cdfcc6"
      },
      "execution_count": 5,
      "outputs": [
        {
          "output_type": "stream",
          "name": "stdout",
          "text": [
            "         var   n  na  mean    sd     p0    p25    p50   p75  p100\n",
            "0  arr_delay  25   0 -9.64 29.15 -64.00 -21.00 -13.00 -1.00 72.00\n"
          ]
        }
      ]
    },
    {
      "cell_type": "markdown",
      "source": [
        "Arrive about 17 hours early? Traveling a day earlier incurs additional costs for lodging, meals, etc.\n",
        "There’s no guarantee that delays longer than 1007 minutes won’t occur\n",
        "\n",
        "A reasonable plan: balance cost-saving and the risk of being late — it’s acceptable to be late for only 2 out of 100 such business trips\n",
        "\n",
        "- The average delay is 2.67 minutes (slightly late on average).\n",
        "- Large standard deviation → very high variation in delays.\n",
        "- Minimum value → there are flights arriving 86 minutes early.\n",
        "- Quartile 1 → flights arrive earlier than 23 minutes.\n",
        "- Median → half of flights arrive earlier than 8 minutes.\n",
        "- Quartile 3 → 75% of flights arrive earlier than 12 minutes.\n",
        "- Maximum value → flights are up to 1007 minutes late (~16.8 hours!).\n",
        "\n",
        "Right-skewed distribution:\n",
        "- Most flights arrive early or on time. But there are a few extreme cases of severe delays, such as 1007 minutes, which causes the mean to be positive (2.67).\n",
        "- Importance of median (-8) vs. mean (2.67):\n",
        "- Median is lower than mean → strengthens the evidence that the distribution is not symmetric and many flights arrive ahead of schedule."
      ],
      "metadata": {
        "id": "6bjw1ZHpq4Qo"
      }
    },
    {
      "cell_type": "code",
      "source": [
        "stats_SF = SF['arr_delay'].describe(percentiles=[0, 0.25, 0.5, 0.75, 1]).to_dict()\n",
        "stats_SF['na'] = SF['arr_delay'].isna().sum()\n",
        "stats_SF['n'] = len(SF['arr_delay'])\n",
        "results_SF = {\n",
        "    'var': 'arr_delay',\n",
        "    'n': stats_SF['n'],\n",
        "    'na': stats_SF['na'],\n",
        "    'mean': round(stats_SF['mean'], 2),\n",
        "    'sd': round(stats_SF['std'], 2),\n",
        "    'p0': int(stats_SF['min']),\n",
        "    'p25': int(stats_SF['25%']),\n",
        "    'p50': int(stats_SF['50%']),\n",
        "    'p75': int(stats_SF['75%']),\n",
        "    'p100': int(stats_SF['max'])\n",
        "}\n",
        "results_SF_df = pd.DataFrame([results_SF])\n",
        "results_SF_df"
      ],
      "metadata": {
        "id": "7gA1uLSzhqhz",
        "colab": {
          "base_uri": "https://localhost:8080/",
          "height": 89
        },
        "outputId": "144dd9d0-5fc9-40d4-9b17-d09e38568c7a"
      },
      "execution_count": 6,
      "outputs": [
        {
          "output_type": "execute_result",
          "data": {
            "text/plain": [
              "         var      n  na  mean    sd  p0  p25  p50  p75  p100\n",
              "0  arr_delay  13173   0  2.67 47.67 -86  -23   -8   12  1007"
            ],
            "text/html": [
              "\n",
              "  <div id=\"df-64852a18-d072-4f02-960e-7f894fcb5d8c\" class=\"colab-df-container\">\n",
              "    <div>\n",
              "<style scoped>\n",
              "    .dataframe tbody tr th:only-of-type {\n",
              "        vertical-align: middle;\n",
              "    }\n",
              "\n",
              "    .dataframe tbody tr th {\n",
              "        vertical-align: top;\n",
              "    }\n",
              "\n",
              "    .dataframe thead th {\n",
              "        text-align: right;\n",
              "    }\n",
              "</style>\n",
              "<table border=\"1\" class=\"dataframe\">\n",
              "  <thead>\n",
              "    <tr style=\"text-align: right;\">\n",
              "      <th></th>\n",
              "      <th>var</th>\n",
              "      <th>n</th>\n",
              "      <th>na</th>\n",
              "      <th>mean</th>\n",
              "      <th>sd</th>\n",
              "      <th>p0</th>\n",
              "      <th>p25</th>\n",
              "      <th>p50</th>\n",
              "      <th>p75</th>\n",
              "      <th>p100</th>\n",
              "    </tr>\n",
              "  </thead>\n",
              "  <tbody>\n",
              "    <tr>\n",
              "      <th>0</th>\n",
              "      <td>arr_delay</td>\n",
              "      <td>13173</td>\n",
              "      <td>0</td>\n",
              "      <td>2.67</td>\n",
              "      <td>47.67</td>\n",
              "      <td>-86</td>\n",
              "      <td>-23</td>\n",
              "      <td>-8</td>\n",
              "      <td>12</td>\n",
              "      <td>1007</td>\n",
              "    </tr>\n",
              "  </tbody>\n",
              "</table>\n",
              "</div>\n",
              "    <div class=\"colab-df-buttons\">\n",
              "\n",
              "  <div class=\"colab-df-container\">\n",
              "    <button class=\"colab-df-convert\" onclick=\"convertToInteractive('df-64852a18-d072-4f02-960e-7f894fcb5d8c')\"\n",
              "            title=\"Convert this dataframe to an interactive table.\"\n",
              "            style=\"display:none;\">\n",
              "\n",
              "  <svg xmlns=\"http://www.w3.org/2000/svg\" height=\"24px\" viewBox=\"0 -960 960 960\">\n",
              "    <path d=\"M120-120v-720h720v720H120Zm60-500h600v-160H180v160Zm220 220h160v-160H400v160Zm0 220h160v-160H400v160ZM180-400h160v-160H180v160Zm440 0h160v-160H620v160ZM180-180h160v-160H180v160Zm440 0h160v-160H620v160Z\"/>\n",
              "  </svg>\n",
              "    </button>\n",
              "\n",
              "  <style>\n",
              "    .colab-df-container {\n",
              "      display:flex;\n",
              "      gap: 12px;\n",
              "    }\n",
              "\n",
              "    .colab-df-convert {\n",
              "      background-color: #E8F0FE;\n",
              "      border: none;\n",
              "      border-radius: 50%;\n",
              "      cursor: pointer;\n",
              "      display: none;\n",
              "      fill: #1967D2;\n",
              "      height: 32px;\n",
              "      padding: 0 0 0 0;\n",
              "      width: 32px;\n",
              "    }\n",
              "\n",
              "    .colab-df-convert:hover {\n",
              "      background-color: #E2EBFA;\n",
              "      box-shadow: 0px 1px 2px rgba(60, 64, 67, 0.3), 0px 1px 3px 1px rgba(60, 64, 67, 0.15);\n",
              "      fill: #174EA6;\n",
              "    }\n",
              "\n",
              "    .colab-df-buttons div {\n",
              "      margin-bottom: 4px;\n",
              "    }\n",
              "\n",
              "    [theme=dark] .colab-df-convert {\n",
              "      background-color: #3B4455;\n",
              "      fill: #D2E3FC;\n",
              "    }\n",
              "\n",
              "    [theme=dark] .colab-df-convert:hover {\n",
              "      background-color: #434B5C;\n",
              "      box-shadow: 0px 1px 3px 1px rgba(0, 0, 0, 0.15);\n",
              "      filter: drop-shadow(0px 1px 2px rgba(0, 0, 0, 0.3));\n",
              "      fill: #FFFFFF;\n",
              "    }\n",
              "  </style>\n",
              "\n",
              "    <script>\n",
              "      const buttonEl =\n",
              "        document.querySelector('#df-64852a18-d072-4f02-960e-7f894fcb5d8c button.colab-df-convert');\n",
              "      buttonEl.style.display =\n",
              "        google.colab.kernel.accessAllowed ? 'block' : 'none';\n",
              "\n",
              "      async function convertToInteractive(key) {\n",
              "        const element = document.querySelector('#df-64852a18-d072-4f02-960e-7f894fcb5d8c');\n",
              "        const dataTable =\n",
              "          await google.colab.kernel.invokeFunction('convertToInteractive',\n",
              "                                                    [key], {});\n",
              "        if (!dataTable) return;\n",
              "\n",
              "        const docLinkHtml = 'Like what you see? Visit the ' +\n",
              "          '<a target=\"_blank\" href=https://colab.research.google.com/notebooks/data_table.ipynb>data table notebook</a>'\n",
              "          + ' to learn more about interactive tables.';\n",
              "        element.innerHTML = '';\n",
              "        dataTable['output_type'] = 'display_data';\n",
              "        await google.colab.output.renderOutput(dataTable, element);\n",
              "        const docLink = document.createElement('div');\n",
              "        docLink.innerHTML = docLinkHtml;\n",
              "        element.appendChild(docLink);\n",
              "      }\n",
              "    </script>\n",
              "  </div>\n",
              "\n",
              "\n",
              "  <div id=\"id_324afd58-4462-484a-9b29-4c8ae5cc2b43\">\n",
              "    <style>\n",
              "      .colab-df-generate {\n",
              "        background-color: #E8F0FE;\n",
              "        border: none;\n",
              "        border-radius: 50%;\n",
              "        cursor: pointer;\n",
              "        display: none;\n",
              "        fill: #1967D2;\n",
              "        height: 32px;\n",
              "        padding: 0 0 0 0;\n",
              "        width: 32px;\n",
              "      }\n",
              "\n",
              "      .colab-df-generate:hover {\n",
              "        background-color: #E2EBFA;\n",
              "        box-shadow: 0px 1px 2px rgba(60, 64, 67, 0.3), 0px 1px 3px 1px rgba(60, 64, 67, 0.15);\n",
              "        fill: #174EA6;\n",
              "      }\n",
              "\n",
              "      [theme=dark] .colab-df-generate {\n",
              "        background-color: #3B4455;\n",
              "        fill: #D2E3FC;\n",
              "      }\n",
              "\n",
              "      [theme=dark] .colab-df-generate:hover {\n",
              "        background-color: #434B5C;\n",
              "        box-shadow: 0px 1px 3px 1px rgba(0, 0, 0, 0.15);\n",
              "        filter: drop-shadow(0px 1px 2px rgba(0, 0, 0, 0.3));\n",
              "        fill: #FFFFFF;\n",
              "      }\n",
              "    </style>\n",
              "    <button class=\"colab-df-generate\" onclick=\"generateWithVariable('results_SF_df')\"\n",
              "            title=\"Generate code using this dataframe.\"\n",
              "            style=\"display:none;\">\n",
              "\n",
              "  <svg xmlns=\"http://www.w3.org/2000/svg\" height=\"24px\"viewBox=\"0 0 24 24\"\n",
              "       width=\"24px\">\n",
              "    <path d=\"M7,19H8.4L18.45,9,17,7.55,7,17.6ZM5,21V16.75L18.45,3.32a2,2,0,0,1,2.83,0l1.4,1.43a1.91,1.91,0,0,1,.58,1.4,1.91,1.91,0,0,1-.58,1.4L9.25,21ZM18.45,9,17,7.55Zm-12,3A5.31,5.31,0,0,0,4.9,8.1,5.31,5.31,0,0,0,1,6.5,5.31,5.31,0,0,0,4.9,4.9,5.31,5.31,0,0,0,6.5,1,5.31,5.31,0,0,0,8.1,4.9,5.31,5.31,0,0,0,12,6.5,5.46,5.46,0,0,0,6.5,12Z\"/>\n",
              "  </svg>\n",
              "    </button>\n",
              "    <script>\n",
              "      (() => {\n",
              "      const buttonEl =\n",
              "        document.querySelector('#id_324afd58-4462-484a-9b29-4c8ae5cc2b43 button.colab-df-generate');\n",
              "      buttonEl.style.display =\n",
              "        google.colab.kernel.accessAllowed ? 'block' : 'none';\n",
              "\n",
              "      buttonEl.onclick = () => {\n",
              "        google.colab.notebook.generateWithVariable('results_SF_df');\n",
              "      }\n",
              "      })();\n",
              "    </script>\n",
              "  </div>\n",
              "\n",
              "    </div>\n",
              "  </div>\n"
            ],
            "application/vnd.google.colaboratory.intrinsic+json": {
              "type": "dataframe",
              "variable_name": "results_SF_df",
              "summary": "{\n  \"name\": \"results_SF_df\",\n  \"rows\": 1,\n  \"fields\": [\n    {\n      \"column\": \"var\",\n      \"properties\": {\n        \"dtype\": \"string\",\n        \"num_unique_values\": 1,\n        \"samples\": [\n          \"arr_delay\"\n        ],\n        \"semantic_type\": \"\",\n        \"description\": \"\"\n      }\n    },\n    {\n      \"column\": \"n\",\n      \"properties\": {\n        \"dtype\": \"number\",\n        \"std\": null,\n        \"min\": 13173,\n        \"max\": 13173,\n        \"num_unique_values\": 1,\n        \"samples\": [\n          13173\n        ],\n        \"semantic_type\": \"\",\n        \"description\": \"\"\n      }\n    },\n    {\n      \"column\": \"na\",\n      \"properties\": {\n        \"dtype\": \"number\",\n        \"std\": null,\n        \"min\": 0,\n        \"max\": 0,\n        \"num_unique_values\": 1,\n        \"samples\": [\n          0\n        ],\n        \"semantic_type\": \"\",\n        \"description\": \"\"\n      }\n    },\n    {\n      \"column\": \"mean\",\n      \"properties\": {\n        \"dtype\": \"number\",\n        \"std\": null,\n        \"min\": 2.67,\n        \"max\": 2.67,\n        \"num_unique_values\": 1,\n        \"samples\": [\n          2.67\n        ],\n        \"semantic_type\": \"\",\n        \"description\": \"\"\n      }\n    },\n    {\n      \"column\": \"sd\",\n      \"properties\": {\n        \"dtype\": \"number\",\n        \"std\": null,\n        \"min\": 47.67,\n        \"max\": 47.67,\n        \"num_unique_values\": 1,\n        \"samples\": [\n          47.67\n        ],\n        \"semantic_type\": \"\",\n        \"description\": \"\"\n      }\n    },\n    {\n      \"column\": \"p0\",\n      \"properties\": {\n        \"dtype\": \"number\",\n        \"std\": null,\n        \"min\": -86,\n        \"max\": -86,\n        \"num_unique_values\": 1,\n        \"samples\": [\n          -86\n        ],\n        \"semantic_type\": \"\",\n        \"description\": \"\"\n      }\n    },\n    {\n      \"column\": \"p25\",\n      \"properties\": {\n        \"dtype\": \"number\",\n        \"std\": null,\n        \"min\": -23,\n        \"max\": -23,\n        \"num_unique_values\": 1,\n        \"samples\": [\n          -23\n        ],\n        \"semantic_type\": \"\",\n        \"description\": \"\"\n      }\n    },\n    {\n      \"column\": \"p50\",\n      \"properties\": {\n        \"dtype\": \"number\",\n        \"std\": null,\n        \"min\": -8,\n        \"max\": -8,\n        \"num_unique_values\": 1,\n        \"samples\": [\n          -8\n        ],\n        \"semantic_type\": \"\",\n        \"description\": \"\"\n      }\n    },\n    {\n      \"column\": \"p75\",\n      \"properties\": {\n        \"dtype\": \"number\",\n        \"std\": null,\n        \"min\": 12,\n        \"max\": 12,\n        \"num_unique_values\": 1,\n        \"samples\": [\n          12\n        ],\n        \"semantic_type\": \"\",\n        \"description\": \"\"\n      }\n    },\n    {\n      \"column\": \"p100\",\n      \"properties\": {\n        \"dtype\": \"number\",\n        \"std\": null,\n        \"min\": 1007,\n        \"max\": 1007,\n        \"num_unique_values\": 1,\n        \"samples\": [\n          1007\n        ],\n        \"semantic_type\": \"\",\n        \"description\": \"\"\n      }\n    }\n  ]\n}"
            },
            "application/vnd.dataresource+json": {
              "schema": {
                "fields": [
                  {
                    "name": "index",
                    "type": "integer"
                  },
                  {
                    "name": "var",
                    "type": "string"
                  },
                  {
                    "name": "n",
                    "type": "integer"
                  },
                  {
                    "name": "na",
                    "type": "integer"
                  },
                  {
                    "name": "mean",
                    "type": "number"
                  },
                  {
                    "name": "sd",
                    "type": "number"
                  },
                  {
                    "name": "p0",
                    "type": "integer"
                  },
                  {
                    "name": "p25",
                    "type": "integer"
                  },
                  {
                    "name": "p50",
                    "type": "integer"
                  },
                  {
                    "name": "p75",
                    "type": "integer"
                  },
                  {
                    "name": "p100",
                    "type": "integer"
                  }
                ],
                "primaryKey": [
                  "index"
                ],
                "pandas_version": "1.4.0"
              },
              "data": [
                {
                  "index": 0,
                  "var": "arr_delay",
                  "n": 13173,
                  "na": 0,
                  "mean": 2.67,
                  "sd": 47.67,
                  "p0": -86,
                  "p25": -23,
                  "p50": -8,
                  "p75": 12,
                  "p100": 1007
                }
              ]
            }
          },
          "metadata": {},
          "execution_count": 6
        }
      ]
    },
    {
      "cell_type": "markdown",
      "source": [
        "### Calculating the 98th Quantile of a Sample of 25 Rows (sf_25)\n",
        "\n",
        "This means that 98% of the arrival delays in this sample sf_25 were less than 67.20 minutes."
      ],
      "metadata": {
        "id": "zkRmKFuiuk88"
      }
    },
    {
      "cell_type": "code",
      "source": [
        "q98_value = sf_25['arr_delay'].quantile(0.98)\n",
        "q98_df = pd.DataFrame({'q98': [q98_value]})\n",
        "q98_df.index = q98_df.index + 1\n",
        "print(q98_df)"
      ],
      "metadata": {
        "colab": {
          "base_uri": "https://localhost:8080/"
        },
        "id": "xYBVyOLwhtb-",
        "outputId": "59ee6265-499e-4c6b-9420-f26ea7717011"
      },
      "execution_count": 7,
      "outputs": [
        {
          "output_type": "stream",
          "name": "stdout",
          "text": [
            "    q98\n",
            "1 67.20\n"
          ]
        }
      ]
    },
    {
      "cell_type": "markdown",
      "source": [
        "### Arrival Delay Distribution (True/False for arr_delay < 90)\n",
        "Groups data based on whether the arrival delay (arr_delay) is less than 90 minutes or not (True/False).\n",
        "\n",
        "If you planned to arrive 90 minutes early, how effective would that plan be in achieving the goal of being late to the meeting no more than 2% of the time?\n",
        "\n",
        "- 95.1% of flights were delayed less than 90 minutes.\n",
        "- 4.86% of flights were delayed more than 90 minutes."
      ],
      "metadata": {
        "id": "Oc2eVgPZrMGO"
      }
    },
    {
      "cell_type": "code",
      "source": [
        "grouped = SF.groupby(SF['arr_delay'] < 90).size().reset_index(name = 'n')\n",
        "grouped.rename(columns={'arr_delay': 'arr_delay < 90'}, inplace = True)\n",
        "grouped['pct'] = grouped['n'] / len(SF)\n",
        "formats = {0: \"{:.4f}\", 1: \"{:.3f}\"}\n",
        "grouped['pct'] = [formats[i].format(p) for i, p in enumerate(grouped['pct'])]\n",
        "\n",
        "grouped.index = grouped.index + 1\n",
        "print(grouped)"
      ],
      "metadata": {
        "colab": {
          "base_uri": "https://localhost:8080/"
        },
        "id": "992q41Wkhu4f",
        "outputId": "a44cefe2-5497-4e4a-d375-0a822d2dca9c"
      },
      "execution_count": 8,
      "outputs": [
        {
          "output_type": "stream",
          "name": "stdout",
          "text": [
            "   arr_delay < 90      n     pct\n",
            "1           False    640  0.0486\n",
            "2            True  12533   0.951\n"
          ]
        }
      ]
    },
    {
      "cell_type": "markdown",
      "source": [
        "### Calculating the 98th Quantile of All Data (SF)\n",
        "\n",
        "That means 98% of flights to SFO are delayed less than 153 minutes."
      ],
      "metadata": {
        "id": "trlHQj_AvWeq"
      }
    },
    {
      "cell_type": "code",
      "source": [
        "q98_value_SF = SF['arr_delay'].quantile(0.98)\n",
        "q98_value_SF = int(q98_value_SF)\n",
        "q98_df_SF = pd.DataFrame({'q98': [q98_value_SF]})\n",
        "q98_df_SF.index = q98_df_SF.index + 1\n",
        "print(q98_df_SF)"
      ],
      "metadata": {
        "colab": {
          "base_uri": "https://localhost:8080/"
        },
        "id": "R1jwmI2vhwnU",
        "outputId": "f7e852f7-b28d-41f5-cfa9-7a35b15d9acf"
      },
      "execution_count": 9,
      "outputs": [
        {
          "output_type": "stream",
          "name": "stdout",
          "text": [
            "   q98\n",
            "1  153\n"
          ]
        }
      ]
    },
    {
      "cell_type": "markdown",
      "source": [
        "### Taking a Random Sample of 25 Rows for 500 Trials\n",
        "\n",
        "The result is a DataFrame sf_25_means that stores the average arrival delays of 500 trials of 25 random rows each.\n",
        "\n",
        "- The mean_arr_delay column shows the average arrival delay for each random trial.\n",
        "- The n column shows that each trial involves 25 rows."
      ],
      "metadata": {
        "id": "X4B1rx5WweC1"
      }
    },
    {
      "cell_type": "code",
      "source": [
        "n = 25 #Takes a random sample of 25 rows from the SF data.\n",
        "num_trials = 500 #Performs this experiment 500 times.\n",
        "\n",
        "sf_25_means = pd.DataFrame({\n",
        "    'mean_arr_delay': [\n",
        "        SF.sample(n = n).arr_delay.mean() #Calculates the mean of arr_delay for each sample.\n",
        "        for _ in range(num_trials)\n",
        "    ]\n",
        "})\n",
        "\n",
        "sf_25_means['n'] = n\n",
        "sf_25_means.index = sf_25_means.index + 1\n",
        "print(sf_25_means.head(6))"
      ],
      "metadata": {
        "colab": {
          "base_uri": "https://localhost:8080/"
        },
        "id": "MX0Q4acxhyD7",
        "outputId": "6016ed32-3463-4290-dde1-033d5957353f"
      },
      "execution_count": 10,
      "outputs": [
        {
          "output_type": "stream",
          "name": "stdout",
          "text": [
            "   mean_arr_delay   n\n",
            "1            8.68  25\n",
            "2            0.12  25\n",
            "3            5.40  25\n",
            "4            5.44  25\n",
            "5           -3.16  25\n",
            "6           17.48  25\n"
          ]
        }
      ]
    },
    {
      "cell_type": "markdown",
      "source": [
        "From 500 trials with 25 random rows per trial, the average arrival delays show a fairly varied distribution, with most average delays being around 3 minutes.\n",
        "\n",
        "The average delays tend to be positive, although there is quite a large variation, as the standard deviation reaches 9.85."
      ],
      "metadata": {
        "id": "yVoo4rHkyQ5j"
      }
    },
    {
      "cell_type": "code",
      "source": [
        "stats_25_SF = sf_25_means['mean_arr_delay'].describe(percentiles=[0, 0.25, 0.5, 0.75, 1]).to_dict()\n",
        "stats_25_SF['na'] = sf_25_means['mean_arr_delay'].isna().sum()\n",
        "stats_25_SF['n'] = len(sf_25_means['mean_arr_delay'])\n",
        "results_25_SF = {\n",
        "    'var': 'mean_arr_delay',\n",
        "    'n': stats_25_SF['n'],\n",
        "    'na': stats_25_SF['na'],\n",
        "    'mean': round(stats_25_SF['mean'], 2),\n",
        "    'sd': round(stats_25_SF['std'], 2),\n",
        "    'p0': round(stats_25_SF['min'], 2),\n",
        "    'p25': round(stats_25_SF['25%'], 2),\n",
        "    'p50': round(stats_25_SF['50%'], 2),\n",
        "    'p75': round(stats_25_SF['75%'], 2),\n",
        "    'p100': round(stats_25_SF['max'], 2)\n",
        "}\n",
        "results_25_SF = pd.DataFrame([results_25_SF])\n",
        "print(results_25_SF.to_string(index = False))"
      ],
      "metadata": {
        "colab": {
          "base_uri": "https://localhost:8080/"
        },
        "id": "IAvn4Nmah0Qy",
        "outputId": "7e83fdea-a949-46bb-e846-95f84cf7582d"
      },
      "execution_count": 11,
      "outputs": [
        {
          "output_type": "stream",
          "name": "stdout",
          "text": [
            "           var   n  na  mean   sd     p0   p25  p50  p75  p100\n",
            "mean_arr_delay 500   0  3.06 9.85 -15.48 -3.93 1.70 8.73 35.72\n"
          ]
        }
      ]
    },
    {
      "cell_type": "markdown",
      "source": [
        "### Calculating Confidence Intervals for Mean Delays\n",
        "This means we can say with 95% confidence that the average delay across the population of flights to SFO is in the range of -16.64 minutes to 22.76 minutes. Since this range includes negative numbers, it shows that the data has a fairly varied distribution, including early flights."
      ],
      "metadata": {
        "id": "k1NH9xCdyixn"
      }
    },
    {
      "cell_type": "code",
      "source": [
        "x_bar = sf_25_means['mean_arr_delay'].mean()\n",
        "se = sf_25_means['mean_arr_delay'].std()\n",
        "\n",
        "ci_lower = x_bar - 2 * se\n",
        "ci_upper = x_bar + 2 * se\n",
        "\n",
        "summary_stats = pd.DataFrame({\n",
        "    'x_bar': [x_bar],\n",
        "    'se': [se],\n",
        "    'ci_lower': [ci_lower],\n",
        "    'ci_upper': [ci_upper]\n",
        "})\n",
        "\n",
        "summary_stats.index = summary_stats.index + 1\n",
        "print(summary_stats)"
      ],
      "metadata": {
        "colab": {
          "base_uri": "https://localhost:8080/"
        },
        "id": "aQL6RcqBh12I",
        "outputId": "c6aceeeb-d753-4aa0-9b0a-5a2a8c135f67"
      },
      "execution_count": 12,
      "outputs": [
        {
          "output_type": "stream",
          "name": "stdout",
          "text": [
            "   x_bar   se  ci_lower  ci_upper\n",
            "1   3.06 9.85    -16.64     22.76\n"
          ]
        }
      ]
    },
    {
      "cell_type": "markdown",
      "source": [
        "### Calculating the Average for a Sample of 100 Rows\n",
        "\n",
        "We take 500 random samples of 100 rows each from the SF data and calculate the average arr_delay for each sample."
      ],
      "metadata": {
        "id": "mD0v8aPRzMy-"
      }
    },
    {
      "cell_type": "code",
      "source": [
        "#A DataFrame that stores 500 average delays calculated from 500 samples of 100 rows.\n",
        "n = 100\n",
        "num_trials = 500\n",
        "\n",
        "sf_100_means = pd.DataFrame({\n",
        "    'mean_arr_delay': [\n",
        "        SF.sample(n=n)['arr_delay'].mean()\n",
        "        for _ in range(num_trials)\n",
        "    ]\n",
        "})\n",
        "\n",
        "sf_100_means['n'] = n"
      ],
      "metadata": {
        "id": "4CJWZM49h4G3"
      },
      "execution_count": 13,
      "outputs": []
    },
    {
      "cell_type": "markdown",
      "source": [
        "### Combining Average Results from 25 and 100 Row Samples for Visualization\n",
        "\n",
        "This histogram will show how the distribution of mean delays changes as the sample size increases from 25 to 100."
      ],
      "metadata": {
        "id": "8jyqriCKzaFE"
      }
    },
    {
      "cell_type": "code",
      "source": [
        "combined_means = pd.concat([sf_25_means, sf_100_means])\n",
        "plot = (\n",
        "    ggplot(combined_means, aes(x = 'mean_arr_delay')) +\n",
        "    geom_histogram(bins = 20, color = \"black\") +\n",
        "    facet_grid('. ~ n') + # produces two histograms separated by sample size (n = 25 and n = 100).\n",
        "    labs(x = \"Sample mean\", y = \"count\") +\n",
        "    xlim(-20, 60) + # Constrains the x-axis to display the range from -20 to 60 minutes.\n",
        "    theme(axis_title = element_text(size = 10),\n",
        "          axis_text = element_text(size = 10),\n",
        "          strip_text_x = element_text(size = 10, weight = 'bold'))\n",
        ")\n",
        "\n",
        "plot.show()"
      ],
      "metadata": {
        "colab": {
          "base_uri": "https://localhost:8080/",
          "height": 497
        },
        "id": "MSgRLK3ch5f_",
        "outputId": "59d99383-b885-47d8-bf22-3dd93a07392b"
      },
      "execution_count": 14,
      "outputs": [
        {
          "output_type": "display_data",
          "data": {
            "image/png": "[encoded data removed]"
          },
          "metadata": {
            "image/png": {
              "width": 640,
              "height": 480
            }
          }
        }
      ]
    },
    {
      "cell_type": "markdown",
      "source": [
        "### Displaying 3 random flights, with departure time information for each selected flight."
      ],
      "metadata": {
        "id": "XkOJVodp0NxZ"
      }
    },
    {
      "cell_type": "code",
      "source": [
        "three_flights = SF.sample(n = 3, replace = False)[['year', 'month', 'day', 'dep_time']]\n",
        "three_flights['dep_time'] = three_flights['dep_time'].astype(int)\n",
        "three_flights.reset_index(inplace = True, drop = True)\n",
        "three_flights.index = three_flights.index + 1\n",
        "print(three_flights)"
      ],
      "metadata": {
        "colab": {
          "base_uri": "https://localhost:8080/"
        },
        "id": "pvG6NqgOh7Cw",
        "outputId": "d8adc5b3-808a-4690-be78-f0606691976d"
      },
      "execution_count": 15,
      "outputs": [
        {
          "output_type": "stream",
          "name": "stdout",
          "text": [
            "   year  month  day  dep_time\n",
            "1  2013      9   13      1245\n",
            "2  2013      5   19       841\n",
            "3  2013      5   10      2133\n"
          ]
        }
      ]
    },
    {
      "cell_type": "code",
      "source": [
        "three_flights_rep = SF.sample(n = 3, replace = True)[['year', 'month', 'day', 'dep_time']]\n",
        "three_flights_rep['dep_time'] = three_flights_rep['dep_time'].astype(int)\n",
        "three_flights_rep.reset_index(inplace = True, drop = True)\n",
        "three_flights_rep.index = three_flights_rep.index + 1\n",
        "print(three_flights_rep)"
      ],
      "metadata": {
        "colab": {
          "base_uri": "https://localhost:8080/"
        },
        "id": "I7GfJH8ah9bF",
        "outputId": "d2b311f2-e837-4120-ce64-e88c33f03b62"
      },
      "execution_count": 16,
      "outputs": [
        {
          "output_type": "stream",
          "name": "stdout",
          "text": [
            "   year  month  day  dep_time\n",
            "1  2013      1   20      1958\n",
            "2  2013      9   28       627\n",
            "3  2013     10    3      2144\n"
          ]
        }
      ]
    },
    {
      "cell_type": "markdown",
      "source": [
        "### Bootstrap vs. Sampling Acak Biasa (n = 200)\n",
        "\n",
        "Taken from bootstrap samples 500 times (with a return of 1 sample size 200).\n",
        "\n",
        "More suitable for measuring the uncertainty of estimates from 1 sample."
      ],
      "metadata": {
        "id": "y2IWH0rn18Pe"
      }
    },
    {
      "cell_type": "code",
      "source": [
        "n = 200\n",
        "num_trials = 500\n",
        "\n",
        "# Extract the original sample\n",
        "orig_sample = SF.sample(n=n, replace=True)\n",
        "\n",
        "# Calculate bootstrap statistics\n",
        "bootstrap_results = pd.DataFrame({\n",
        "    'mean_arr_delay': [\n",
        "        orig_sample.sample(n=n, replace=True)['arr_delay'].mean()\n",
        "        for _ in range(num_trials)\n",
        "    ]\n",
        "})\n",
        "\n",
        "bootstrap_results['n'] = n\n",
        "\n",
        "boot_skim = bootstrap_results['mean_arr_delay'].describe(percentiles=[0, 0.25, 0.5, 0.75, 1]).to_dict()\n",
        "boot_skim['na'] = bootstrap_results['mean_arr_delay'].isna().sum()\n",
        "boot_skim['n'] = len(bootstrap_results['mean_arr_delay'])\n",
        "boot_skim_result = {\n",
        "    'var': 'mean_arr_delay',\n",
        "    'n': boot_skim['n'],\n",
        "    'na': boot_skim['na'],\n",
        "    'mean': round(boot_skim['mean'], 2),\n",
        "    'sd': round(boot_skim['std'], 2),\n",
        "    'p0': round(boot_skim['min'], 2),\n",
        "    'p25': round(boot_skim['25%'], 2),\n",
        "    'p50': round(boot_skim['50%'], 2),\n",
        "    'p75': round(boot_skim['75%'], 2),\n",
        "    'p100': round(boot_skim['max'], 2)\n",
        "}\n",
        "boot_skim_result = pd.DataFrame([boot_skim_result])\n",
        "print(boot_skim_result.to_string(index = False))"
      ],
      "metadata": {
        "colab": {
          "base_uri": "https://localhost:8080/"
        },
        "id": "BuGXB1xdiKOT",
        "outputId": "b55494e5-7f0c-4940-e0aa-4d08b3a61314"
      },
      "execution_count": 17,
      "outputs": [
        {
          "output_type": "stream",
          "name": "stdout",
          "text": [
            "           var   n  na  mean   sd    p0  p25  p50  p75  p100\n",
            "mean_arr_delay 500   0  6.91 4.32 -4.91 4.16 6.64 9.85 24.64\n"
          ]
        }
      ]
    },
    {
      "cell_type": "markdown",
      "source": [
        "### Ordinary Random Sampling – Mean arr_delay\n",
        "Taken from 500 independent random samples from the population, each of size 200.\n",
        "\n",
        "The mean is lower, indicating the original bootstrap sample likely had a higher lag than the population mean."
      ],
      "metadata": {
        "id": "aCdtLfhR2QSF"
      }
    },
    {
      "cell_type": "code",
      "source": [
        "n = 200\n",
        "num_trials = 500\n",
        "\n",
        "sf_200_pop = pd.DataFrame({\n",
        "    'mean_arr_delay': [SF.sample(n = n, replace=False)['arr_delay'].mean()\n",
        "        for _ in range(num_trials)]})\n",
        "\n",
        "sf_200_pop['n'] = n\n",
        "\n",
        "sf_200_pop_skim = sf_200_pop['mean_arr_delay'].describe(percentiles=[0, 0.25, 0.5, 0.75, 1]).to_dict()\n",
        "sf_200_pop_skim['na'] = sf_200_pop['mean_arr_delay'].isna().sum()\n",
        "sf_200_pop_skim['n'] = len(sf_200_pop['mean_arr_delay'])\n",
        "sf_200_pop_result = {\n",
        "    'var': 'mean_arr_delay',\n",
        "    'n': sf_200_pop_skim['n'],\n",
        "    'na': sf_200_pop_skim['na'],\n",
        "    'mean': round(sf_200_pop_skim['mean'], 2),\n",
        "    'sd': round(sf_200_pop_skim['std'], 2),\n",
        "    'p0': round(sf_200_pop_skim['min'], 2),\n",
        "    'p25': round(sf_200_pop_skim['25%'], 2),\n",
        "    'p50': round(sf_200_pop_skim['50%'], 2),\n",
        "    'p75': round(sf_200_pop_skim['75%'], 2),\n",
        "    'p100': round(sf_200_pop_skim['max'], 2)\n",
        "}\n",
        "sf_200_pop_result = pd.DataFrame([sf_200_pop_result])\n",
        "print(sf_200_pop_result.to_string(index = False))"
      ],
      "metadata": {
        "colab": {
          "base_uri": "https://localhost:8080/"
        },
        "id": "4WdIB8EfiRNB",
        "outputId": "8bff51d9-09f3-4833-ae5e-b553fbff667d"
      },
      "execution_count": 18,
      "outputs": [
        {
          "output_type": "stream",
          "name": "stdout",
          "text": [
            "           var   n  na  mean   sd    p0  p25  p50  p75  p100\n",
            "mean_arr_delay 500   0  2.45 3.25 -7.12 0.32 2.41 4.64 13.05\n"
          ]
        }
      ]
    },
    {
      "cell_type": "markdown",
      "source": [
        "### Percentile ke-98 (q98) – arr_delay\n",
        "\n",
        "Just 1 number, namely the 98th quantile of 1 bootstrap sample of size 200."
      ],
      "metadata": {
        "id": "otcMdzJe28qw"
      }
    },
    {
      "cell_type": "code",
      "source": [
        "n = 200\n",
        "orig_sample = SF.sample(n=n, replace=True)\n",
        "\n",
        "q98 = orig_sample['arr_delay'].quantile(0.98)\n",
        "\n",
        "q98_df = pd.DataFrame({'q98': [q98]})\n",
        "q98_df.index = q98_df.index + 1\n",
        "print(q98_df)"
      ],
      "metadata": {
        "colab": {
          "base_uri": "https://localhost:8080/"
        },
        "id": "9J7eJUmdiTNy",
        "outputId": "b0bc103e-7b60-4704-d4c9-0abf63b44cfc"
      },
      "execution_count": 19,
      "outputs": [
        {
          "output_type": "stream",
          "name": "stdout",
          "text": [
            "    q98\n",
            "1 95.00\n"
          ]
        }
      ]
    },
    {
      "cell_type": "code",
      "source": [
        "n = 200\n",
        "orig_sample = SF.sample(n=n, replace=True)\n",
        "\n",
        "num_trials = 500\n",
        "\n",
        "sf_200_bs = pd.DataFrame({\n",
        "    'q98': [\n",
        "        orig_sample.sample(n=n, replace=True)['arr_delay'].quantile(0.98)\n",
        "        for _ in range(num_trials)\n",
        "    ]\n",
        "})"
      ],
      "metadata": {
        "id": "-JU17mMyiUdS"
      },
      "execution_count": 20,
      "outputs": []
    },
    {
      "cell_type": "markdown",
      "source": [
        "### Bootstrap q98 (500 times)\n",
        "\n",
        "Taking the 98th quantile 500 times from resampling 1 bootstrap sample.\n",
        "\n",
        "The distribution is wide, because arr_delay tends to have a long right tail (right-skewed).\n",
        "\n",
        "This makes q98 unstable and very sensitive to outliers."
      ],
      "metadata": {
        "id": "LrXdkzyI23dD"
      }
    },
    {
      "cell_type": "code",
      "source": [
        "sf_200_bs_skim = sf_200_bs['q98'].describe(percentiles=[0, 0.25, 0.5, 0.75, 1]).to_dict()\n",
        "sf_200_bs_skim['na'] = sf_200_bs['q98'].isna().sum()\n",
        "sf_200_bs_skim['n'] = len(sf_200_bs['q98'])\n",
        "sf_200_bs_result = {\n",
        "    'var': 'q98',\n",
        "    'n': sf_200_bs_skim['n'],\n",
        "    'na': sf_200_bs_skim['na'],\n",
        "    'mean': round(sf_200_bs_skim['mean'], 2),\n",
        "    'sd': round(sf_200_bs_skim['std'], 2),\n",
        "    'p0': round(sf_200_bs_skim['min'], 2),\n",
        "    'p25': round(sf_200_bs_skim['25%'], 2),\n",
        "    'p50': round(sf_200_bs_skim['50%'], 2),\n",
        "    'p75': round(sf_200_bs_skim['75%'], 2),\n",
        "    'p100': round(sf_200_bs_skim['max'], 2)\n",
        "}\n",
        "sf_200_bs_result = pd.DataFrame([sf_200_bs_result])\n",
        "print(sf_200_bs_result.to_string(index = False))"
      ],
      "metadata": {
        "colab": {
          "base_uri": "https://localhost:8080/"
        },
        "id": "4xwbSNGBiW2g",
        "outputId": "da7a62a3-71d3-4499-d716-28b78219f2dd"
      },
      "execution_count": 21,
      "outputs": [
        {
          "output_type": "stream",
          "name": "stdout",
          "text": [
            "var   n  na   mean    sd    p0    p25    p50    p75   p100\n",
            "q98 500   0 184.02 39.48 83.22 136.16 193.06 196.74 253.00\n"
          ]
        }
      ]
    },
    {
      "cell_type": "markdown",
      "source": [
        "Estimate the distribution of the 98th quantile (q98) of arr_delay using bootstrap sampling based on a large initial sample size (n = 10,000), then repeat this process 500 times → resulting in 500 q98 values.\n",
        "\n",
        "- Mean of 98th percentile (q98) from bootstrap results: 159.31 minutes\n",
        "- Standard deviation of q98 estimates: 4.67\n",
        "- The range of q98 distribution ranges from 140.02 (minimum) to 171.00 (maximum)\n",
        "- Provides uncertainty estimates of q98 based on bootstrap"
      ],
      "metadata": {
        "id": "FM77HCTP6Pw_"
      }
    },
    {
      "cell_type": "code",
      "source": [
        "n_large = 10000\n",
        "num_trials = 500\n",
        "\n",
        "sf_10000_bs = SF.sample(n=n_large, replace=False)\n",
        "\n",
        "sf_200_bs = pd.DataFrame({\n",
        "    'q98': [\n",
        "        sf_10000_bs.sample(n=n_large, replace=True)['arr_delay'].quantile(0.98)\n",
        "        for _ in range(num_trials)\n",
        "    ]\n",
        "})\n",
        "\n",
        "sf_200_bs_skim = sf_200_bs['q98'].describe(percentiles=[0, 0.25, 0.5, 0.75, 1]).to_dict()\n",
        "sf_200_bs_skim['na'] = sf_200_bs['q98'].isna().sum()\n",
        "sf_200_bs_skim['n'] = len(sf_200_bs['q98'])\n",
        "sf_200_bs_result = {\n",
        "    'var': 'q98',\n",
        "    'n': sf_200_bs_skim['n'],\n",
        "    'na': sf_200_bs_skim['na'],\n",
        "    'mean': round(sf_200_bs_skim['mean'], 2),\n",
        "    'sd': round(sf_200_bs_skim['std'], 2),\n",
        "    'p0': round(sf_200_bs_skim['min'], 2),\n",
        "    'p25': round(sf_200_bs_skim['25%'], 2),\n",
        "    'p50': round(sf_200_bs_skim['50%'], 2),\n",
        "    'p75': round(sf_200_bs_skim['75%'], 2),\n",
        "    'p100': round(sf_200_bs_skim['max'], 2)\n",
        "}\n",
        "sf_200_bs_result = pd.DataFrame([sf_200_bs_result])\n",
        "print(sf_200_bs_result.to_string(index = False))"
      ],
      "metadata": {
        "colab": {
          "base_uri": "https://localhost:8080/"
        },
        "id": "dDSubAgYiYcI",
        "outputId": "9e96cefe-4b11-47fa-b3a4-98f246740e69"
      },
      "execution_count": 22,
      "outputs": [
        {
          "output_type": "stream",
          "name": "stdout",
          "text": [
            "var   n  na   mean   sd     p0    p25    p50    p75   p100\n",
            "q98 500   0 159.31 4.67 140.02 156.02 159.00 162.02 171.00\n"
          ]
        }
      ]
    },
    {
      "cell_type": "markdown",
      "source": [
        "98% of the arr_delay data has a value less than or equal to 153.\n",
        "\n",
        "Only 2% of the data has an arr_delay value greater than 153."
      ],
      "metadata": {
        "id": "Yl8DvZFG7e0b"
      }
    },
    {
      "cell_type": "code",
      "source": [
        "SF['arr_delay'].quantile(0.98)"
      ],
      "metadata": {
        "colab": {
          "base_uri": "https://localhost:8080/"
        },
        "id": "y7p1GHGWibe5",
        "outputId": "1fa2b7ba-5fcb-4cb6-c356-ea529039c326"
      },
      "execution_count": 23,
      "outputs": [
        {
          "output_type": "execute_result",
          "data": {
            "text/plain": [
              "np.float64(153.0)"
            ]
          },
          "metadata": {},
          "execution_count": 23
        }
      ]
    },
    {
      "cell_type": "markdown",
      "source": [
        "This shows 7 flights with extreme delays of over 7 hours (420 minutes)"
      ],
      "metadata": {
        "id": "WeX4mFIN7JfC"
      }
    },
    {
      "cell_type": "code",
      "source": [
        "result = SF[SF['arr_delay'] >= 420][['month', 'day', 'dep_delay', 'arr_delay', 'carrier']]\n",
        "result.reset_index(drop = True, inplace = True)\n",
        "result.index = result.index + 1\n",
        "print(result)"
      ],
      "metadata": {
        "colab": {
          "base_uri": "https://localhost:8080/"
        },
        "id": "w-9mWnplid-c",
        "outputId": "7556c3c2-10fa-4d5d-ad1a-be9cb86216f7"
      },
      "execution_count": 24,
      "outputs": [
        {
          "output_type": "stream",
          "name": "stdout",
          "text": [
            "   month  day  dep_delay  arr_delay carrier\n",
            "1     12    7     374.00     422.00      UA\n",
            "2      7    6     589.00     561.00      DL\n",
            "3      7    7     629.00     676.00      VX\n",
            "4      7    7     653.00     632.00      VX\n",
            "5      7   10     453.00     445.00      B6\n",
            "6      7   10     432.00     433.00      VX\n",
            "7      9   20    1014.00    1007.00      AA\n"
          ]
        }
      ]
    },
    {
      "cell_type": "markdown",
      "source": [
        "Most flights are not late or only slightly late.\n",
        "\n",
        "There is a long tail to the right (right-skewed), indicating a small percentage of flights are extremely late (>100 minutes, even up to >400 minutes)."
      ],
      "metadata": {
        "id": "v9e47USD8fmR"
      }
    },
    {
      "cell_type": "code",
      "source": [
        "filtered_data = SF[SF['arr_delay'] < 420]\n",
        "plot = (\n",
        "    ggplot(filtered_data, aes(x='arr_delay')) +\n",
        "    geom_histogram(binwidth=15) +\n",
        "    labs(x='Arrival delay (in minutes)', y='count')\n",
        ")\n",
        "\n",
        "plot.show()"
      ],
      "metadata": {
        "colab": {
          "base_uri": "https://localhost:8080/",
          "height": 497
        },
        "id": "KuktxWIMijs_",
        "outputId": "fb9b14d4-8a00-490f-ff4e-3c1c83e4bdf7"
      },
      "execution_count": 25,
      "outputs": [
        {
          "output_type": "display_data",
          "data": {
            "image/png": "[encoded data removed]"
          },
          "metadata": {
            "image/png": {
              "width": 640,
              "height": 480
            }
          }
        }
      ]
    },
    {
      "cell_type": "markdown",
      "source": [
        "The months with the highest number of long delays were June (X6) and July (X7)— this could be due to the holiday season, weather, or airport congestion."
      ],
      "metadata": {
        "id": "3yDZ5yYD8nRZ"
      }
    },
    {
      "cell_type": "code",
      "source": [
        "SF['long_delay'] = SF['arr_delay'] > 60\n",
        "\n",
        "grouped = SF.groupby(['month', 'long_delay']).size().reset_index(name = 'n')\n",
        "month_mapping = {1: 'X1', 2: 'X2', 3: 'X3', 4: 'X4', 5: 'X5', 6: 'X6',\n",
        "                 7: 'X7', 8: 'X8', 9: 'X9', 10: 'X10', 11: 'X11', 12: 'X12'}\n",
        "grouped['month'] = grouped['month'].map(month_mapping)\n",
        "\n",
        "pivoted = grouped.pivot(index = 'long_delay', columns = 'month', values='n').reset_index()\n",
        "\n",
        "column_order = ['long_delay'] + [f'X{i}' for i in range(1, 13)]\n",
        "pivoted = pivoted.reindex(columns = column_order).fillna(0)\n",
        "pivoted.index = pivoted.index + 1\n",
        "pivoted.columns.name = None\n",
        "\n",
        "print(pivoted)"
      ],
      "metadata": {
        "colab": {
          "base_uri": "https://localhost:8080/"
        },
        "id": "fcPN6gL9iml0",
        "outputId": "8f626ed8-7727-4c64-a985-66c0f60a8b84"
      },
      "execution_count": 26,
      "outputs": [
        {
          "output_type": "stream",
          "name": "stdout",
          "text": [
            "   long_delay   X1   X2   X3   X4    X5   X6   X7    X8    X9   X10   X11  \\\n",
            "1       False  856  741  812  993  1128  980  966  1159  1124  1177  1107   \n",
            "2        True   29   21   61  112    65  209  226    96    65    36    51   \n",
            "\n",
            "    X12  \n",
            "1  1093  \n",
            "2    66  \n"
          ]
        }
      ]
    },
    {
      "cell_type": "markdown",
      "source": [
        "UA (United Airlines) appears to have the most flights overall and also has the highest number of long delays (492).\n",
        "However that could also be because they have a much larger flight volume than other airlines."
      ],
      "metadata": {
        "id": "4Fp24BSS8scg"
      }
    },
    {
      "cell_type": "code",
      "source": [
        "SF['long_delay'] = SF['arr_delay'] > 60\n",
        "grouped = SF.groupby(['carrier', 'long_delay']).size().reset_index(name = 'n')\n",
        "pivot = grouped.pivot(index = 'long_delay', columns = 'carrier', values = 'n').fillna(0).reset_index()\n",
        "pivot.index = pivot.index + 1\n",
        "pivot.columns.name = None\n",
        "print(pivot)"
      ],
      "metadata": {
        "colab": {
          "base_uri": "https://localhost:8080/"
        },
        "id": "wo0k1Q-YioGd",
        "outputId": "008a3b76-86df-4c0a-bac0-87a4f82906f6"
      },
      "execution_count": 27,
      "outputs": [
        {
          "output_type": "stream",
          "name": "stdout",
          "text": [
            "   long_delay    AA   B6    DL    UA    VX\n",
            "1       False  1250  934  1757  6236  1959\n",
            "2        True   148   86    91   492   220\n"
          ]
        }
      ]
    },
    {
      "cell_type": "markdown",
      "source": [
        "Peak flight hours are 7:00 and 10:00, with the most flights.\n",
        "\n",
        "Delays tend to increase over time, likely due to the cumulative effect of previous flights (e.g. a plane arriving late and affecting the next flight).\n",
        "\n",
        "Morning schedules (dawn to 8 am) are relatively safe to avoid delays."
      ],
      "metadata": {
        "id": "Nehk2WdE_YRu"
      }
    },
    {
      "cell_type": "code",
      "source": [
        "grouped = SF.groupby('hour').size().reset_index(name = '1')\n",
        "\n",
        "hour_mapping = {\n",
        "    5: 'X5', 6: 'X6', 7: 'X7', 8: 'X8', 9: 'X9', 10: 'X10', 11: 'X11', 12: 'X12',\n",
        "    13: 'X13', 14: 'X14', 15: 'X15', 16: 'X16', 17: 'X17', 18: 'X18', 19: 'X19',\n",
        "    20: 'X20', 21: 'X21'\n",
        "}\n",
        "grouped['hour'] = grouped['hour'].map(hour_mapping)\n",
        "\n",
        "pivot = grouped.pivot_table(index = None, columns = 'hour', values = '1', fill_value = 0)\n",
        "\n",
        "column_order = [f'X{i}' for i in range(5, 22)]\n",
        "pivot = pivot.reindex(columns = column_order).fillna(0)\n",
        "pivot.columns.name = None\n",
        "pivot = pivot.astype(int)\n",
        "print(pivot)"
      ],
      "metadata": {
        "colab": {
          "base_uri": "https://localhost:8080/"
        },
        "id": "bstPxbaBirGa",
        "outputId": "4bb250f2-da08-48ca-dae8-87274c91e0c9"
      },
      "execution_count": 28,
      "outputs": [
        {
          "output_type": "stream",
          "name": "stdout",
          "text": [
            "   X5   X6    X7   X8   X9   X10  X11  X12  X13  X14  X15  X16   X17   X18  \\\n",
            "1  55  663  1696  987  429  1744  413  504  476  528  946  897  1491  1091   \n",
            "\n",
            "   X19  X20  X21  \n",
            "1  731  465   57  \n"
          ]
        }
      ]
    },
    {
      "cell_type": "markdown",
      "source": [
        "The later the departure schedule, the higher the potential for delay.\n",
        "\n",
        "Morning schedules (5–8 a.m.) tend to have lower and more stable delay distributions.\n",
        "\n",
        "Outliers (black dots above) appear more in the afternoon–evening schedule."
      ],
      "metadata": {
        "id": "VDsmgqVz_FRA"
      }
    },
    {
      "cell_type": "code",
      "source": [
        "plot_SF = (\n",
        "    ggplot(SF, aes(x = 'hour', y = 'arr_delay'))\n",
        "    + geom_boxplot(aes(group = 'hour'))\n",
        "    + geom_smooth(method = 'lm', color = 'blue')\n",
        "    + xlab(\"Scheduled hour of departure\")\n",
        "    + ylab(\"Arrival delay (minutes)\")\n",
        "    + coord_cartesian(ylim = (-30, 120))\n",
        "    + theme(\n",
        "        axis_title = element_text(size = 12),\n",
        "        axis_text = element_text(size = 10)\n",
        "    )\n",
        ")\n",
        "\n",
        "# Display the plot\n",
        "plot_SF.show()"
      ],
      "metadata": {
        "colab": {
          "base_uri": "https://localhost:8080/",
          "height": 497
        },
        "id": "87goEZfMitVV",
        "outputId": "590b9bb3-cca6-4367-d17a-e8fe288a504d"
      },
      "execution_count": 29,
      "outputs": [
        {
          "output_type": "display_data",
          "data": {
            "image/png": "[encoded data removed]"
          },
          "metadata": {
            "image/png": {
              "width": 640,
              "height": 480
            }
          }
        }
      ]
    },
    {
      "cell_type": "markdown",
      "source": [
        "Linear regression analysis is used to see the factors that influence aircraft arrival delays (arr_delay)\n",
        "- If the plane departs exactly at 00:00, the model estimates that the plane will arrive 22.93 minutes earlier.\n",
        "- Every 1 hour later departure → delay increases by 2.01 minutes.\n",
        "- Std. Error: The smaller it is, the more precise the estimate is.\n",
        "- Statistic (t-statistic): A measure of how far the coefficient is from zero statistically. A t-statistic of 22.01 is very high → meaning the hour effect is very strong.\n",
        "- P-Value: The likelihood that the relationship between variables occurs simply by chance. A very small p-value (e.g. 1.78e-105) → means it is highly statistically significant."
      ],
      "metadata": {
        "id": "gZQGNpHPBSSa"
      }
    },
    {
      "cell_type": "code",
      "source": [
        "model = smf.ols('arr_delay ~ hour', data = SF).fit()\n",
        "results_df = pd.DataFrame({\n",
        "    'term': model.params.index,\n",
        "    'estimate': model.params.values,\n",
        "    'std.error': model.bse.values,\n",
        "    'statistic': model.tvalues,\n",
        "    'p.value': model.pvalues\n",
        "}).reset_index(drop = True)\n",
        "results_df.index = results_df.index + 1\n",
        "results_df['p.value'] = results_df['p.value'].apply(lambda x: '{:.2e}'.format(x))\n",
        "\n",
        "print(results_df)"
      ],
      "metadata": {
        "colab": {
          "base_uri": "https://localhost:8080/"
        },
        "id": "tVOR92rpivu8",
        "outputId": "e2955c90-f144-45a9-9e28-91218b54d6a8"
      },
      "execution_count": 30,
      "outputs": [
        {
          "output_type": "stream",
          "name": "stdout",
          "text": [
            "        term  estimate  std.error  statistic    p.value\n",
            "1  Intercept    -22.93       1.23     -18.60   2.88e-76\n",
            "2       hour      2.01       0.09      22.01  1.78e-105\n"
          ]
        }
      ]
    },
    {
      "cell_type": "markdown",
      "source": [
        "- day: only date (without hour) from time_hour\n",
        "- dow: day name (Monday, Tuesday, ...)\n",
        "- season: if June/July → summer, otherwise → other month\n",
        "- hour (departure time)\n",
        "- origin (origin airport)\n",
        "- carrier (airline)\n",
        "- dow (day of the week)"
      ],
      "metadata": {
        "id": "ySjwPmIYDZr-"
      }
    },
    {
      "cell_type": "code",
      "source": [
        "SF['day'] = pd.to_datetime(SF['time_hour']).dt.date\n",
        "SF['dow'] = SF['day'].apply(lambda x: x.strftime('%A'))\n",
        "SF['season'] = SF['day'].apply(lambda x: 'summer' if x.month in [6, 7] else 'other month')\n",
        "\n",
        "model_formula = 'arr_delay ~ hour + origin + carrier + season + dow'\n",
        "mod2 = smf.ols(formula=model_formula, data=SF).fit()"
      ],
      "metadata": {
        "id": "nrsV3ZZskK45"
      },
      "execution_count": 31,
      "outputs": []
    },
    {
      "cell_type": "markdown",
      "source": [
        "- Intercept -24.64 Delay at baseline conditions (e.g. Monday, non-summer season, reference airline)\n",
        "- Hour = 1 hour delay more → add 2.08 minutes delay\n",
        "- OriginJFK = From JFK → 4.12 minutes slower than baseline origin\n",
        "- CarrierDL = Delta Airlines is 18.41 minutes faster than reference airline\n",
        "- Seasonsummer 25.27 Summer season → 25.27 minutes delay longer than other seasons"
      ],
      "metadata": {
        "id": "5rx8tCANEgE4"
      }
    },
    {
      "cell_type": "code",
      "source": [
        "results_mod2 = pd.DataFrame({\n",
        "    'term': mod2.params.index,\n",
        "    'estimate': mod2.params.values,\n",
        "    'std.error': mod2.bse.values,\n",
        "    'statistic': mod2.tvalues,\n",
        "    'p.value': mod2.pvalues\n",
        "}).reset_index(drop = True)\n",
        "results_mod2['term'] = results_mod2['term'].str.replace('C\\(|\\)|\\[T\\.|\\]', '', regex = True)\n",
        "\n",
        "hour_row = results_mod2[results_mod2['term'] == 'hour']\n",
        "other_rows = results_mod2[results_mod2['term'] != 'hour']\n",
        "results_mod2 = pd.concat([other_rows.iloc[:1], hour_row, other_rows.iloc[1:]]).reset_index(drop = True)\n",
        "\n",
        "results_mod2['term'] = results_mod2['term'].replace({\n",
        "    'dowMonday': 'dowMon',\n",
        "    'dowTuesday': 'dowTue',\n",
        "    'dowWednesday': 'dowWed',\n",
        "    'dowThursday': 'dowThu',\n",
        "    'dowFriday': 'dowFri',\n",
        "    'dowSaturday': 'dowSat',\n",
        "    'dowSunday': 'dowSun'\n",
        "}, regex = True)\n",
        "\n",
        "results_mod2.index = results_mod2.index + 1\n",
        "results_mod2['p.value'] = results_mod2['p.value'].apply(lambda x: '{:.2e}'.format(x))\n",
        "\n",
        "\n",
        "print(results_mod2)"
      ],
      "metadata": {
        "colab": {
          "base_uri": "https://localhost:8080/"
        },
        "id": "GtQrrK88kQ3C",
        "outputId": "cd89f909-883d-41ba-98bf-715ef9731318"
      },
      "execution_count": 32,
      "outputs": [
        {
          "output_type": "stream",
          "name": "stdout",
          "text": [
            "            term  estimate  std.error  statistic    p.value\n",
            "1      Intercept    -24.64       2.17     -11.33   1.32e-29\n",
            "2           hour      2.08       0.09      23.18  1.47e-116\n",
            "3      originJFK      4.12       1.00       4.10   4.21e-05\n",
            "4      carrierB6    -10.32       1.88      -5.49   4.07e-08\n",
            "5      carrierDL    -18.41       1.62     -11.40   5.90e-30\n",
            "6      carrierUA     -4.76       1.48      -3.22   1.31e-03\n",
            "7      carrierVX     -5.06       1.60      -3.17   1.54e-03\n",
            "8   seasonsummer     25.27       1.03      24.51  1.00e-129\n",
            "9         dowMon      1.74       1.45       1.21   2.28e-01\n",
            "10        dowSat     -5.63       1.55      -3.64   2.75e-04\n",
            "11        dowSun      5.12       1.48       3.47   5.32e-04\n",
            "12        dowThu      3.19       1.45       2.20   2.78e-02\n",
            "13        dowTue     -1.65       1.45      -1.14   2.53e-01\n",
            "14        dowWed     -0.88       1.45      -0.61   5.42e-01\n"
          ]
        }
      ]
    },
    {
      "cell_type": "code",
      "source": [
        "SF['carrier'].unique()"
      ],
      "metadata": {
        "id": "IW8-tZrHkf36",
        "colab": {
          "base_uri": "https://localhost:8080/"
        },
        "outputId": "cc80079a-11fc-4932-9cd1-c7a3c9e46ecc"
      },
      "execution_count": 34,
      "outputs": [
        {
          "output_type": "execute_result",
          "data": {
            "text/plain": [
              "array(['UA', 'DL', 'VX', 'B6', 'AA'], dtype=object)"
            ]
          },
          "metadata": {},
          "execution_count": 34
        }
      ]
    },
    {
      "cell_type": "code",
      "source": [],
      "metadata": {
        "id": "EXogcjXuFiIS"
      },
      "execution_count": 33,
      "outputs": []
    }
  ]
}